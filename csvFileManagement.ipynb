{
 "cells": [
  {
   "cell_type": "code",
   "execution_count": 1,
   "id": "f2b844fb-393e-48b6-bc0e-a17b26706700",
   "metadata": {
    "scrolled": true
   },
   "outputs": [
    {
     "name": "stdout",
     "output_type": "stream",
     "text": [
      "Requirement already satisfied: matplotlib in c:\\users\\son\\appdata\\local\\programs\\python\\python39\\lib\\site-packages (3.9.4)\n",
      "Requirement already satisfied: pandas in c:\\users\\son\\appdata\\local\\programs\\python\\python39\\lib\\site-packages (2.2.3)\n",
      "Requirement already satisfied: contourpy>=1.0.1 in c:\\users\\son\\appdata\\local\\programs\\python\\python39\\lib\\site-packages (from matplotlib) (1.3.0)\n",
      "Requirement already satisfied: cycler>=0.10 in c:\\users\\son\\appdata\\local\\programs\\python\\python39\\lib\\site-packages (from matplotlib) (0.12.1)\n",
      "Requirement already satisfied: fonttools>=4.22.0 in c:\\users\\son\\appdata\\local\\programs\\python\\python39\\lib\\site-packages (from matplotlib) (4.55.3)\n",
      "Requirement already satisfied: kiwisolver>=1.3.1 in c:\\users\\son\\appdata\\local\\programs\\python\\python39\\lib\\site-packages (from matplotlib) (1.4.7)\n",
      "Requirement already satisfied: numpy>=1.23 in c:\\users\\son\\appdata\\local\\programs\\python\\python39\\lib\\site-packages (from matplotlib) (1.26.4)\n",
      "Requirement already satisfied: packaging>=20.0 in c:\\users\\son\\appdata\\local\\programs\\python\\python39\\lib\\site-packages (from matplotlib) (24.0)\n",
      "Requirement already satisfied: pillow>=8 in c:\\users\\son\\appdata\\local\\programs\\python\\python39\\lib\\site-packages (from matplotlib) (11.0.0)\n",
      "Requirement already satisfied: pyparsing>=2.3.1 in c:\\users\\son\\appdata\\local\\programs\\python\\python39\\lib\\site-packages (from matplotlib) (3.2.0)\n",
      "Requirement already satisfied: python-dateutil>=2.7 in c:\\users\\son\\appdata\\local\\programs\\python\\python39\\lib\\site-packages (from matplotlib) (2.9.0.post0)\n",
      "Requirement already satisfied: importlib-resources>=3.2.0 in c:\\users\\son\\appdata\\local\\programs\\python\\python39\\lib\\site-packages (from matplotlib) (6.4.5)\n",
      "Requirement already satisfied: pytz>=2020.1 in c:\\users\\son\\appdata\\local\\programs\\python\\python39\\lib\\site-packages (from pandas) (2024.2)\n",
      "Requirement already satisfied: tzdata>=2022.7 in c:\\users\\son\\appdata\\local\\programs\\python\\python39\\lib\\site-packages (from pandas) (2024.2)\n",
      "Requirement already satisfied: zipp>=3.1.0 in c:\\users\\son\\appdata\\local\\programs\\python\\python39\\lib\\site-packages (from importlib-resources>=3.2.0->matplotlib) (3.18.1)\n",
      "Requirement already satisfied: six>=1.5 in c:\\users\\son\\appdata\\local\\programs\\python\\python39\\lib\\site-packages (from python-dateutil>=2.7->matplotlib) (1.16.0)\n",
      "Note: you may need to restart the kernel to use updated packages.\n"
     ]
    },
    {
     "name": "stderr",
     "output_type": "stream",
     "text": [
      "\n",
      "[notice] A new release of pip is available: 24.0 -> 24.3.1\n",
      "[notice] To update, run: python.exe -m pip install --upgrade pip\n"
     ]
    }
   ],
   "source": [
    "pip install matplotlib pandas"
   ]
  },
  {
   "cell_type": "code",
   "execution_count": 11,
   "id": "c5fc4f59-7e2a-4890-bfb9-2a531db4cfe6",
   "metadata": {},
   "outputs": [
    {
     "data": {
      "image/png": "[encoded data removed]",
      "text/plain": [
       "<Figure size 640x480 with 1 Axes>"
      ]
     },
     "metadata": {},
     "output_type": "display_data"
    }
   ],
   "source": [
    "import tkinter as tk\n",
    "from tkinter import filedialog, messagebox\n",
    "import pandas as pd\n",
    "import matplotlib.pyplot as plt"
   ]
  },
  {
   "cell_type": "code",
   "execution_count": 2,
   "id": "4ef2a75a-00bc-4d8d-9fd7-de0a0fb65516",
   "metadata": {},
   "outputs": [],
   "source": [
    "def visualize_data(file_path):\n",
    "    # CSV 파일 읽기\n",
    "    df = pd.read_csv(file_path)\n",
    "    \n",
    "    # 나이 분포 그래프 그리기\n",
    "    plt.figure(figsize=(8, 6))\n",
    "    df['age'] = df['age'].astype(int)  # 나이를 정수형으로 변환\n",
    "    plt.hist(df['age'], bins=5, color='skyblue', edgecolor='black')\n",
    "    plt.title('Age Distribution', fontsize=16)\n",
    "    plt.xlabel('Age', fontsize=12)\n",
    "    plt.ylabel('Frequency', fontsize=12)\n",
    "    plt.grid(axis='y', linestyle='--', alpha=0.7)\n",
    "    plt.show()\n",
    "    \n",
    "    # 도시별 인원수 파이차트\n",
    "    city_counts = df['city'].value_counts()\n",
    "    plt.figure(figsize=(8, 6))\n",
    "    city_counts.plot.pie(autopct='%1.1f%%', startangle=140, colors=['lightcoral', 'gold', 'skyblue'])\n",
    "    plt.title('People per City', fontsize=16)\n",
    "    plt.ylabel('')  # Y축 제거\n",
    "    plt.show()"
   ]
  },
  {
   "cell_type": "code",
   "execution_count": 3,
   "id": "59fec2b0-c603-47ce-9ea7-5f675eb0d452",
   "metadata": {},
   "outputs": [],
   "source": [
    "import csv\n",
    "\n",
    "# csv 파일 읽기\n",
    "def read_csv(file_path):\n",
    "    with open(file_path, mode='r') as file:\n",
    "        reader = csv.DictReader(file)\n",
    "        for row in reader:\n",
    "            print(row)"
   ]
  },
  {
   "cell_type": "code",
   "execution_count": 4,
   "id": "3da49c38-74c3-4ba0-b8de-391a16a6177c",
   "metadata": {},
   "outputs": [],
   "source": [
    "# 데이터 추가하기\n",
    "def add_row(file_path):\n",
    "    with open(file_path, mode = 'a', newline='') as file:\n",
    "        writer = csv.writer(file)\n",
    "        new_data = [input(\"ID: \"), input(\"NAME: \"), input(\"AGE: \"), input(\"CITY: \")]\n",
    "        writer.writerow(new_data)\n",
    "        print(\"Data added successfully!\")"
   ]
  },
  {
   "cell_type": "code",
   "execution_count": 5,
   "id": "c9c4f23c-eca7-4139-864f-b7e51bf85cab",
   "metadata": {},
   "outputs": [],
   "source": [
    "# 데이터 삭제하기\n",
    "def delete_row(file_path, delete_id):\n",
    "    rows = []\n",
    "    with open(file_path, mode = 'r') as file:\n",
    "        reader = csv.DictReader(file)\n",
    "        for row in reader:\n",
    "            if row['id'] != delete_id:\n",
    "                rows.append(row)\n",
    "\n",
    "    # 파일 업데이트\n",
    "    with open(file_path, mode = 'r') as file:\n",
    "        writer = csv.DictReader(file, fieldnames=rows[0].keys())\n",
    "        writer.writeheader()\n",
    "        writer.writerows(rows)\n",
    "        print(f\"Row with ID {delete_id} deleted.\")"
   ]
  },
  {
   "cell_type": "code",
   "execution_count": 6,
   "id": "b97a49de-0c39-4449-ae52-e3a321c6fc0f",
   "metadata": {},
   "outputs": [],
   "source": [
    "# 데이터 수정하기\n",
    "def update_row(file_path, update_id, field, new_value):\n",
    "    rows = []\n",
    "    with open(file_path, mode = 'r') as file:\n",
    "        reader = csv.DictReader(file)\n",
    "        for row in reader:\n",
    "            if row['id'] == update_id:\n",
    "                row[field] = new_value\n",
    "            rows.append(row)\n",
    "    # 파일 업데이트\n",
    "    with open(file_path, mode='w', newline='') as file:\n",
    "        writer = csv.DictWriter(file, fieldnames=rows[0].keys())\n",
    "        writer.writeheader()\n",
    "        writer.writerows(rows)\n",
    "        print(f\"Row with ID {update_id} updated.\")"
   ]
  },
  {
   "cell_type": "code",
   "execution_count": 7,
   "id": "6800f05d-8746-41d7-9c43-11cdbcbf6192",
   "metadata": {},
   "outputs": [],
   "source": [
    "# 데이터 검색하기\n",
    "def search_data(file_path, field, value):\n",
    "    with open(file_path, mode='r') as file:\n",
    "        reader = csv.DictReader(file)\n",
    "        for row in reader:\n",
    "            if row[field] == value:\n",
    "                print(row)"
   ]
  },
  {
   "cell_type": "code",
   "execution_count": 9,
   "id": "0c14a672-44d8-48f0-a936-41068e5db684",
   "metadata": {},
   "outputs": [
    {
     "name": "stdout",
     "output_type": "stream",
     "text": [
      "\n",
      "1. Read CSV\n",
      "2. Add Row\n",
      "3. Delete Row\n",
      "4. Update Row\n",
      "5. Search Data\n",
      "6. Exit\n",
      "7. visualize.\n"
     ]
    },
    {
     "name": "stdin",
     "output_type": "stream",
     "text": [
      "Enter your choice:  7\n"
     ]
    },
    {
     "ename": "ParserError",
     "evalue": "Error tokenizing data. C error: Expected 3 fields in line 4, saw 6\n",
     "output_type": "error",
     "traceback": [
      "\u001b[1;31m---------------------------------------------------------------------------\u001b[0m",
      "\u001b[1;31mParserError\u001b[0m                               Traceback (most recent call last)",
      "Cell \u001b[1;32mIn[9], line 32\u001b[0m\n\u001b[0;32m     29\u001b[0m             \u001b[38;5;28mprint\u001b[39m(\u001b[38;5;124m\"\u001b[39m\u001b[38;5;124mInvalid choice. Please try again.\u001b[39m\u001b[38;5;124m\"\u001b[39m)\n\u001b[0;32m     31\u001b[0m \u001b[38;5;28;01mif\u001b[39;00m \u001b[38;5;18m__name__\u001b[39m \u001b[38;5;241m==\u001b[39m \u001b[38;5;124m\"\u001b[39m\u001b[38;5;124m__main__\u001b[39m\u001b[38;5;124m\"\u001b[39m:\n\u001b[1;32m---> 32\u001b[0m     \u001b[43mmain\u001b[49m\u001b[43m(\u001b[49m\u001b[43m)\u001b[49m\n",
      "Cell \u001b[1;32mIn[9], line 27\u001b[0m, in \u001b[0;36mmain\u001b[1;34m()\u001b[0m\n\u001b[0;32m     25\u001b[0m     \u001b[38;5;28;01mbreak\u001b[39;00m\n\u001b[0;32m     26\u001b[0m \u001b[38;5;28;01melif\u001b[39;00m choice \u001b[38;5;241m==\u001b[39m \u001b[38;5;124m'\u001b[39m\u001b[38;5;124m7\u001b[39m\u001b[38;5;124m'\u001b[39m:\n\u001b[1;32m---> 27\u001b[0m     \u001b[43mvisualize_data\u001b[49m\u001b[43m(\u001b[49m\u001b[43mfile_path\u001b[49m\u001b[43m)\u001b[49m\n\u001b[0;32m     28\u001b[0m \u001b[38;5;28;01melse\u001b[39;00m:\n\u001b[0;32m     29\u001b[0m     \u001b[38;5;28mprint\u001b[39m(\u001b[38;5;124m\"\u001b[39m\u001b[38;5;124mInvalid choice. Please try again.\u001b[39m\u001b[38;5;124m\"\u001b[39m)\n",
      "Cell \u001b[1;32mIn[2], line 6\u001b[0m, in \u001b[0;36mvisualize_data\u001b[1;34m(file_path)\u001b[0m\n\u001b[0;32m      4\u001b[0m \u001b[38;5;28;01mdef\u001b[39;00m \u001b[38;5;21mvisualize_data\u001b[39m(file_path):\n\u001b[0;32m      5\u001b[0m     \u001b[38;5;66;03m# CSV 파일 읽기\u001b[39;00m\n\u001b[1;32m----> 6\u001b[0m     df \u001b[38;5;241m=\u001b[39m \u001b[43mpd\u001b[49m\u001b[38;5;241;43m.\u001b[39;49m\u001b[43mread_csv\u001b[49m\u001b[43m(\u001b[49m\u001b[43mfile_path\u001b[49m\u001b[43m)\u001b[49m\n\u001b[0;32m      8\u001b[0m     \u001b[38;5;66;03m# 나이 분포 그래프 그리기\u001b[39;00m\n\u001b[0;32m      9\u001b[0m     plt\u001b[38;5;241m.\u001b[39mfigure(figsize\u001b[38;5;241m=\u001b[39m(\u001b[38;5;241m8\u001b[39m, \u001b[38;5;241m6\u001b[39m))\n",
      "File \u001b[1;32mc:\\users\\son\\appdata\\local\\programs\\python\\python39\\lib\\site-packages\\pandas\\io\\parsers\\readers.py:1026\u001b[0m, in \u001b[0;36mread_csv\u001b[1;34m(filepath_or_buffer, sep, delimiter, header, names, index_col, usecols, dtype, engine, converters, true_values, false_values, skipinitialspace, skiprows, skipfooter, nrows, na_values, keep_default_na, na_filter, verbose, skip_blank_lines, parse_dates, infer_datetime_format, keep_date_col, date_parser, date_format, dayfirst, cache_dates, iterator, chunksize, compression, thousands, decimal, lineterminator, quotechar, quoting, doublequote, escapechar, comment, encoding, encoding_errors, dialect, on_bad_lines, delim_whitespace, low_memory, memory_map, float_precision, storage_options, dtype_backend)\u001b[0m\n\u001b[0;32m   1013\u001b[0m kwds_defaults \u001b[38;5;241m=\u001b[39m _refine_defaults_read(\n\u001b[0;32m   1014\u001b[0m     dialect,\n\u001b[0;32m   1015\u001b[0m     delimiter,\n\u001b[1;32m   (...)\u001b[0m\n\u001b[0;32m   1022\u001b[0m     dtype_backend\u001b[38;5;241m=\u001b[39mdtype_backend,\n\u001b[0;32m   1023\u001b[0m )\n\u001b[0;32m   1024\u001b[0m kwds\u001b[38;5;241m.\u001b[39mupdate(kwds_defaults)\n\u001b[1;32m-> 1026\u001b[0m \u001b[38;5;28;01mreturn\u001b[39;00m \u001b[43m_read\u001b[49m\u001b[43m(\u001b[49m\u001b[43mfilepath_or_buffer\u001b[49m\u001b[43m,\u001b[49m\u001b[43m \u001b[49m\u001b[43mkwds\u001b[49m\u001b[43m)\u001b[49m\n",
      "File \u001b[1;32mc:\\users\\son\\appdata\\local\\programs\\python\\python39\\lib\\site-packages\\pandas\\io\\parsers\\readers.py:626\u001b[0m, in \u001b[0;36m_read\u001b[1;34m(filepath_or_buffer, kwds)\u001b[0m\n\u001b[0;32m    623\u001b[0m     \u001b[38;5;28;01mreturn\u001b[39;00m parser\n\u001b[0;32m    625\u001b[0m \u001b[38;5;28;01mwith\u001b[39;00m parser:\n\u001b[1;32m--> 626\u001b[0m     \u001b[38;5;28;01mreturn\u001b[39;00m \u001b[43mparser\u001b[49m\u001b[38;5;241;43m.\u001b[39;49m\u001b[43mread\u001b[49m\u001b[43m(\u001b[49m\u001b[43mnrows\u001b[49m\u001b[43m)\u001b[49m\n",
      "File \u001b[1;32mc:\\users\\son\\appdata\\local\\programs\\python\\python39\\lib\\site-packages\\pandas\\io\\parsers\\readers.py:1923\u001b[0m, in \u001b[0;36mTextFileReader.read\u001b[1;34m(self, nrows)\u001b[0m\n\u001b[0;32m   1916\u001b[0m nrows \u001b[38;5;241m=\u001b[39m validate_integer(\u001b[38;5;124m\"\u001b[39m\u001b[38;5;124mnrows\u001b[39m\u001b[38;5;124m\"\u001b[39m, nrows)\n\u001b[0;32m   1917\u001b[0m \u001b[38;5;28;01mtry\u001b[39;00m:\n\u001b[0;32m   1918\u001b[0m     \u001b[38;5;66;03m# error: \"ParserBase\" has no attribute \"read\"\u001b[39;00m\n\u001b[0;32m   1919\u001b[0m     (\n\u001b[0;32m   1920\u001b[0m         index,\n\u001b[0;32m   1921\u001b[0m         columns,\n\u001b[0;32m   1922\u001b[0m         col_dict,\n\u001b[1;32m-> 1923\u001b[0m     ) \u001b[38;5;241m=\u001b[39m \u001b[38;5;28;43mself\u001b[39;49m\u001b[38;5;241;43m.\u001b[39;49m\u001b[43m_engine\u001b[49m\u001b[38;5;241;43m.\u001b[39;49m\u001b[43mread\u001b[49m\u001b[43m(\u001b[49m\u001b[43m  \u001b[49m\u001b[38;5;66;43;03m# type: ignore[attr-defined]\u001b[39;49;00m\n\u001b[0;32m   1924\u001b[0m \u001b[43m        \u001b[49m\u001b[43mnrows\u001b[49m\n\u001b[0;32m   1925\u001b[0m \u001b[43m    \u001b[49m\u001b[43m)\u001b[49m\n\u001b[0;32m   1926\u001b[0m \u001b[38;5;28;01mexcept\u001b[39;00m \u001b[38;5;167;01mException\u001b[39;00m:\n\u001b[0;32m   1927\u001b[0m     \u001b[38;5;28mself\u001b[39m\u001b[38;5;241m.\u001b[39mclose()\n",
      "File \u001b[1;32mc:\\users\\son\\appdata\\local\\programs\\python\\python39\\lib\\site-packages\\pandas\\io\\parsers\\c_parser_wrapper.py:234\u001b[0m, in \u001b[0;36mCParserWrapper.read\u001b[1;34m(self, nrows)\u001b[0m\n\u001b[0;32m    232\u001b[0m \u001b[38;5;28;01mtry\u001b[39;00m:\n\u001b[0;32m    233\u001b[0m     \u001b[38;5;28;01mif\u001b[39;00m \u001b[38;5;28mself\u001b[39m\u001b[38;5;241m.\u001b[39mlow_memory:\n\u001b[1;32m--> 234\u001b[0m         chunks \u001b[38;5;241m=\u001b[39m \u001b[38;5;28;43mself\u001b[39;49m\u001b[38;5;241;43m.\u001b[39;49m\u001b[43m_reader\u001b[49m\u001b[38;5;241;43m.\u001b[39;49m\u001b[43mread_low_memory\u001b[49m\u001b[43m(\u001b[49m\u001b[43mnrows\u001b[49m\u001b[43m)\u001b[49m\n\u001b[0;32m    235\u001b[0m         \u001b[38;5;66;03m# destructive to chunks\u001b[39;00m\n\u001b[0;32m    236\u001b[0m         data \u001b[38;5;241m=\u001b[39m _concatenate_chunks(chunks)\n",
      "File \u001b[1;32mparsers.pyx:838\u001b[0m, in \u001b[0;36mpandas._libs.parsers.TextReader.read_low_memory\u001b[1;34m()\u001b[0m\n",
      "File \u001b[1;32mparsers.pyx:905\u001b[0m, in \u001b[0;36mpandas._libs.parsers.TextReader._read_rows\u001b[1;34m()\u001b[0m\n",
      "File \u001b[1;32mparsers.pyx:874\u001b[0m, in \u001b[0;36mpandas._libs.parsers.TextReader._tokenize_rows\u001b[1;34m()\u001b[0m\n",
      "File \u001b[1;32mparsers.pyx:891\u001b[0m, in \u001b[0;36mpandas._libs.parsers.TextReader._check_tokenize_status\u001b[1;34m()\u001b[0m\n",
      "File \u001b[1;32mparsers.pyx:2061\u001b[0m, in \u001b[0;36mpandas._libs.parsers.raise_parser_error\u001b[1;34m()\u001b[0m\n",
      "\u001b[1;31mParserError\u001b[0m: Error tokenizing data. C error: Expected 3 fields in line 4, saw 6\n"
     ]
    }
   ],
   "source": [
    "def main():\n",
    "    file_path = 'testing.csv'\n",
    "    while True:\n",
    "        print(\"\\n1. Read CSV\\n2. Add Row\\n3. Delete Row\\n4. Update Row\\n5. Search Data\\n6. Exit\\n7. visualize.\")\n",
    "        choice = input(\"Enter your choice: \")\n",
    "\n",
    "        if choice == '1':\n",
    "            read_csv(file_path)\n",
    "        elif choice == '2':\n",
    "            add_row(file_path)\n",
    "        elif choice == '3':\n",
    "            delete_id = input(\"Enter ID to delete: \")\n",
    "            delete_row(file_path, delete_id)\n",
    "        elif choice == '4':\n",
    "            update_id = input(\"Enter ID to update: \")\n",
    "            field = input(\"Enter field to update (name, age, city): \")\n",
    "            new_value = input(\"Enter new value: \")\n",
    "            update_row(file_path, update_id, field, new_value)\n",
    "        elif choice == '5':\n",
    "            field = input(\"Enter field to search (name, age, city): \")\n",
    "            value = input(\"Enter value to search: \")\n",
    "            search_data(file_path, field, value)\n",
    "        elif choice == '6':\n",
    "            print(\"Exiting program.\")\n",
    "            break\n",
    "        elif choice == '7':\n",
    "            visualize_data(file_path)\n",
    "        else:\n",
    "            print(\"Invalid choice. Please try again.\")\n",
    "\n",
    "if __name__ == \"__main__\":\n",
    "    main()"
   ]
  },
  {
   "cell_type": "code",
   "execution_count": null,
   "id": "dc98e630-04e5-48d5-a3be-5e83ef3dfbf4",
   "metadata": {},
   "outputs": [],
   "source": [
    "def open_file():\n",
    "    file_path = filedialog.askopenfilename(filetypes=[(\"CSV Files\", \"*.csv\")])\n",
    "    if not file_path:\n",
    "        return\n",
    "    display_data(file_path)\n",
    "\n",
    "def display_data(file_path):\n",
    "    try:\n",
    "        df = pd.read_csv(file_path)\n",
    "        text_box.delete('1.0', tk.END)  # 기존 텍스트 초기화\n",
    "        text_box.insert(tk.END, df.to_string(index=False))\n",
    "    except Exception as e:\n",
    "        messagebox.showerror(\"Error\", f\"Could not read file: {e}\")\n",
    "\n",
    "def visualize_file(file_path):\n",
    "    try:\n",
    "        df = pd.read_csv(file_path)\n",
    "        # 도시별 인원수 파이차트\n",
    "        city_counts = df['city'].value_counts()\n",
    "        city_counts.plot.pie(autopct='%1.1f%%', startangle=140, colors=['lightcoral', 'gold', 'skyblue'])\n",
    "        plt.title('People per City')\n",
    "        plt.ylabel('')\n",
    "        plt.show()\n",
    "    except Exception as e:\n",
    "        messagebox.showerror(\"Error\", f\"Could not visualize data: {e}\")\n",
    "\n",
    "def start_gui():\n",
    "    global text_box\n",
    "    root = tk.Tk()\n",
    "    root.title(\"CSV File Manager\")\n",
    "    \n",
    "    # 버튼\n",
    "    open_button = tk.Button(root, text=\"Open CSV File\", command=open_file)\n",
    "    open_button.pack(pady=5)\n",
    "    \n",
    "    visualize_button = tk.Button(root, text=\"Visualize Data\", command=lambda: visualize_file(filedialog.askopenfilename(filetypes=[(\"CSV Files\", \"*.csv\")])))\n",
    "    visualize_button.pack(pady=5)\n",
    "    \n",
    "    # 텍스트 박스\n",
    "    text_box = tk.Text(root, height=15, width=70)\n",
    "    text_box.pack(pady=10)\n",
    "    \n",
    "    root.mainloop()\n",
    "\n",
    "# 실행\n",
    "if __name__ == \"__main__\":\n",
    "    start_gui()"
   ]
  }
 ],
 "metadata": {
  "kernelspec": {
   "display_name": "Python 3 (ipykernel)",
   "language": "python",
   "name": "python3"
  },
  "language_info": {
   "codemirror_mode": {
    "name": "ipython",
    "version": 3
   },
   "file_extension": ".py",
   "mimetype": "text/x-python",
   "name": "python",
   "nbconvert_exporter": "python",
   "pygments_lexer": "ipython3",
   "version": "3.9.2"
  }
 },
 "nbformat": 4,
 "nbformat_minor": 5
}
